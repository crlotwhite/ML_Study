{
 "cells": [
  {
   "metadata": {
    "ExecuteTime": {
     "end_time": "2024-08-17T12:15:53.316859Z",
     "start_time": "2024-08-17T12:15:53.310781Z"
    }
   },
   "cell_type": "code",
   "source": [
    "import dataclasses\n",
    "\n",
    "@dataclasses.dataclass\n",
    "class Hyperparameter:\n",
    "    batch_size: int = 32\n",
    "    num_workers: int = 2\n",
    "    \n",
    "    \n",
    "hp = Hyperparameter"
   ],
   "id": "637df7c4444f06f2",
   "outputs": [],
   "execution_count": 1
  },
  {
   "metadata": {
    "collapsed": true,
    "ExecuteTime": {
     "end_time": "2024-08-17T12:22:02.053708Z",
     "start_time": "2024-08-17T12:22:00.608857Z"
    }
   },
   "cell_type": "code",
   "source": [
    "import torch\n",
    "import torchvision\n",
    "import torchvision.transforms as T\n",
    "\n",
    "\n",
    "trainsform = T.Compose([\n",
    "    T.ToTensor(),\n",
    "    T.Normalize((0.5, 0.5, 0.5), (0.5, 0.5, 0.5))\n",
    "])\n",
    "\n",
    "train_dataset = torchvision.datasets.CIFAR10(root='/Users/noel/data', train=True, download=True, transform=trainsform)\n",
    "test_dataset = torchvision.datasets.CIFAR10(root='/Users/noel/data', train=False, download=True, transform=trainsform)\n",
    "\n",
    "train_loader = torch.utils.data.DataLoader(train_dataset, batch_size=hp.batch_size, shuffle=True, num_workers=hp.num_workers)\n",
    "test_loader = torch.utils.data.DataLoader(test_dataset, batch_size=hp.batch_size, shuffle=True, num_workers=hp.num_workers)"
   ],
   "id": "initial_id",
   "outputs": [
    {
     "name": "stdout",
     "output_type": "stream",
     "text": [
      "Files already downloaded and verified\n",
      "Files already downloaded and verified\n"
     ]
    }
   ],
   "execution_count": 4
  },
  {
   "metadata": {},
   "cell_type": "code",
   "outputs": [],
   "execution_count": null,
   "source": [
    "import torch.nn as nn\n",
    "from enum import IntEnum\n",
    "\n",
    "class ShiftType(IntEnum):\n",
    "    DOWN = 0\n",
    "    RIGHT = 1\n",
    "\n",
    "\n",
    "class DownShift(nn.Module):\n",
    "    def __init__(self):\n",
    "        super(DownShift, self).__init__()\n",
    "        \n",
    "    def forward(self, x):\n",
    "        \n"
   ],
   "id": "33c0fd7bef6f7439"
  }
 ],
 "metadata": {
  "kernelspec": {
   "display_name": "Python 3",
   "language": "python",
   "name": "python3"
  },
  "language_info": {
   "codemirror_mode": {
    "name": "ipython",
    "version": 2
   },
   "file_extension": ".py",
   "mimetype": "text/x-python",
   "name": "python",
   "nbconvert_exporter": "python",
   "pygments_lexer": "ipython2",
   "version": "2.7.6"
  }
 },
 "nbformat": 4,
 "nbformat_minor": 5
}
