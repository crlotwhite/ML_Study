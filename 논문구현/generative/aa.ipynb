{
 "cells": [
  {
   "metadata": {
    "ExecuteTime": {
     "end_time": "2024-08-17T18:44:39.557534Z",
     "start_time": "2024-08-17T18:44:39.554514Z"
    }
   },
   "cell_type": "code",
   "source": [
    "import dataclasses\n",
    "\n",
    "from pygments.styles.dracula import background\n",
    "\n",
    "\n",
    "@dataclasses.dataclass\n",
    "class Hyperparameter:\n",
    "    batch_size: int = 64\n",
    "    num_workers: int = 2\n",
    "    num_epochs: int = 20\n",
    "    d_hidden: int = 64\n",
    "    lr: float = 1e-3\n",
    "    lr_decay: float = 0.999995\n",
    "    num_res: int = 4\n",
    "    buffer: int = 1024\n",
    "    num_attn: int = 10\n",
    "    num_mix: int = 5\n",
    "    dropout: float = 0.5\n",
    "    \n",
    "    \n",
    "hp = Hyperparameter"
   ],
   "id": "637df7c4444f06f2",
   "outputs": [],
   "execution_count": 220
  },
  {
   "metadata": {
    "collapsed": true,
    "ExecuteTime": {
     "end_time": "2024-08-17T18:44:40.494061Z",
     "start_time": "2024-08-17T18:44:39.582538Z"
    }
   },
   "cell_type": "code",
   "source": [
    "import torch\n",
    "import torchvision\n",
    "import torchvision.transforms as T\n",
    "\n",
    "\n",
    "trainsform = T.Compose([\n",
    "    T.ToTensor(),\n",
    "    T.Normalize((0.5, 0.5, 0.5), (0.5, 0.5, 0.5))\n",
    "])\n",
    "\n",
    "train_dataset = torchvision.datasets.CIFAR10(root='C:\\\\Users\\\\tama0\\\\.data', train=True, download=True, transform=trainsform)\n",
    "test_dataset = torchvision.datasets.CIFAR10(root='C:\\\\Users\\\\tama0\\\\.data', train=False, download=True, transform=trainsform)\n",
    "\n",
    "train_loader = torch.utils.data.DataLoader(train_dataset, batch_size=hp.batch_size, shuffle=True, num_workers=hp.num_workers)\n",
    "test_loader = torch.utils.data.DataLoader(test_dataset, batch_size=hp.batch_size, shuffle=True, num_workers=hp.num_workers)"
   ],
   "id": "initial_id",
   "outputs": [
    {
     "name": "stdout",
     "output_type": "stream",
     "text": [
      "Files already downloaded and verified\n",
      "Files already downloaded and verified\n"
     ]
    }
   ],
   "execution_count": 221
  },
  {
   "metadata": {
    "ExecuteTime": {
     "end_time": "2024-08-17T18:44:40.533021Z",
     "start_time": "2024-08-17T18:44:40.528568Z"
    }
   },
   "cell_type": "code",
   "source": [
    "import torch.nn as nn\n",
    "import torch.nn.functional as F\n",
    "from enum import IntEnum\n",
    "\n",
    "class ShiftType(IntEnum):\n",
    "    DOWN = 0\n",
    "    RIGHT = 1\n",
    "\n",
    "\n",
    "class ShiftLayer(torch.nn.Module):\n",
    "    def __init__(self, shift_type):\n",
    "        super(ShiftLayer, self).__init__()\n",
    "        self.shift_type = shift_type\n",
    "        \n",
    "    def forward(self, x):\n",
    "        match self.shift_type:\n",
    "            case ShiftType.DOWN:\n",
    "                return F.pad(x, (0,0,1,0))[:,:,:-1,:]\n",
    "            case ShiftType.RIGHT:\n",
    "                return F.pad(x, (1,0))[:,:,:,:-1]\n",
    "        "
   ],
   "id": "33c0fd7bef6f7439",
   "outputs": [],
   "execution_count": 222
  },
  {
   "metadata": {
    "ExecuteTime": {
     "end_time": "2024-08-17T18:44:40.570532Z",
     "start_time": "2024-08-17T18:44:40.566875Z"
    }
   },
   "cell_type": "code",
   "source": [
    "class Conv2d(nn.Conv2d):\n",
    "    def __init__(self, *args, **kwargs) -> None:\n",
    "        super().__init__(*args, **kwargs)\n",
    "        nn.utils.weight_norm(self)\n",
    "        \n",
    "class DownShiftedConv2d(nn.Conv2d):\n",
    "    def forward(self, x):\n",
    "        hk, wk = self.kernel_size\n",
    "        x = F.pad(x, ((wk-1)//2, (wk-1)//2, hk-1, 0))\n",
    "        return super().forward(x)\n",
    "    \n",
    "class DownRightShiftedConv2d(Conv2d):\n",
    "    def forward(self, x):\n",
    "        hk, wk = self.kernel_size\n",
    "        x = F.pad(x, (wk-1, 0, hk-1, 0))\n",
    "        return super().forward(x)\n",
    "        "
   ],
   "id": "bb24fa33341885e6",
   "outputs": [],
   "execution_count": 223
  },
  {
   "metadata": {
    "ExecuteTime": {
     "end_time": "2024-08-17T18:44:40.607830Z",
     "start_time": "2024-08-17T18:44:40.603656Z"
    }
   },
   "cell_type": "code",
   "source": [
    "class GatedResidualBlock(nn.Module):\n",
    "    def __init__(self, conv, n_channels, kernel_size, \n",
    "                 drop_rate=0, shortcut_channels=None, n_cond_classes=None):\n",
    "        super().__init__()\n",
    "        \n",
    "        self.conv_1 = conv(2 * n_channels, n_channels, kernel_size)\n",
    "        if shortcut_channels:\n",
    "            self.conv_1_sc = Conv2d(2 * shortcut_channels, n_channels, kernel_size=1)\n",
    "        if drop_rate > 0:\n",
    "            self.drop_1 = nn.Dropout(drop_rate)\n",
    "        self.conv_2 = conv(2 * n_channels, 2 * n_channels, kernel_size)\n",
    "        \n",
    "        if n_cond_classes:\n",
    "            self.proj_h = nn.Linear(n_cond_classes, 2 * n_channels)\n",
    "            \n",
    "    def forward(self, x, a=None, h=None):\n",
    "        c1 = self.conv_1(x)\n",
    "        if a is not None:\n",
    "            c1 = c1 + self.c1c(F.elu(torch.cat([a, -a], dim=1)))\n",
    "        c1 = F.elu(torch.cat([c1, -c1], dim=1))\n",
    "        if hasattr(self, 'drop_1'):\n",
    "            c1 = self.drop_1(c1)\n",
    "        c2 = self.conv_2(c1)\n",
    "        if h is not None:\n",
    "            c2 += self.proj_h(h)[:, :, None, None]\n",
    "        a, b = c2.chunk(2, 1)\n",
    "        out = x + a * torch.sigmoid(b)\n",
    "        \n",
    "        return out"
   ],
   "id": "3ff672cf54ef292b",
   "outputs": [],
   "execution_count": 224
  },
  {
   "metadata": {
    "ExecuteTime": {
     "end_time": "2024-08-17T18:44:40.643907Z",
     "start_time": "2024-08-17T18:44:40.638892Z"
    }
   },
   "cell_type": "code",
   "source": [
    "class AttentionGatedResidualBlock(nn.Module):\n",
    "    def __init__(self, n_channels, n_background_ch, n_res_layers, n_cond_classes,\n",
    "                 drop_rate, n_hidden, d_query, d_value, attn_drop_rate):\n",
    "        super().__init__()\n",
    "        \n",
    "        self.n_hidden = n_hidden\n",
    "        self.d_query = d_query\n",
    "        self.d_value = d_value\n",
    "        self.attn_drop_rate = attn_drop_rate\n",
    "        \n",
    "        self.input_gated_resnet = nn.ModuleList([\n",
    "            GatedResidualBlock(DownShiftedConv2d, n_channels, (2, 2), \n",
    "                               drop_rate, None, n_cond_classes) \n",
    "            for _ in range(n_res_layers)])\n",
    "        \n",
    "        self.in_proj_kv = nn.Sequential(\n",
    "            GatedResidualBlock(Conv2d, 2 * n_channels + n_background_ch, 1, \n",
    "                               drop_rate, None, n_cond_classes), \n",
    "            Conv2d(2 * n_channels + n_background_ch, d_query + d_value, 1)\n",
    "        )\n",
    "        self.in_proj_q = nn.Sequential(\n",
    "            GatedResidualBlock(Conv2d, n_channels + n_background_ch, 1, \n",
    "                               drop_rate, None, n_cond_classes),\n",
    "            Conv2d(n_channels + n_background_ch, d_query, 1)\n",
    "        )\n",
    "        self.out_proj = GatedResidualBlock(Conv2d, n_channels, 1, drop_rate, \n",
    "                                           d_value, n_cond_classes)\n",
    "    \n",
    "    def forward(self, x, background, attn_mask, h=None):\n",
    "        ul = x\n",
    "        for layer in self.input_gated_resnet:\n",
    "            ul = layer(ul, h=h)\n",
    "        \n",
    "        kv = self.in_proj_kv(torch.cat([x, ul, background], dim=1))\n",
    "        k, v = kv.split([self.d_query, self.d_value], dim=1)\n",
    "        q = self.in_proj_q(torch.cat([ul, background], dim=1))\n",
    "        \n",
    "        B, dq, H, W = q.shape\n",
    "        _, dv, _, _ = v.shape\n",
    "        \n",
    "        flat_q = q.reshape(B, self.n_hidden,  dq//self.n_hidden, H, W).flatten(3) \\\n",
    "                 * (dq//self.n_hidden)**-0.5\n",
    "        flat_k = k.reshape(B, self.n_hidden,  dq//self.n_hidden, H, W).flatten(3)\n",
    "        flat_v = v.reshape(B, self.n_hidden,  dq//self.n_hidden, H, W).flatten(3)\n",
    "        \n",
    "        logits = flat_q.transpose(2, 3) @ flat_k\n",
    "        logits = F.dropout(logits, p=self.attn_drop_rate, \n",
    "                           training=self.training, inplace=True)\n",
    "        logits = logits.masked_fill(attn_mask == 0, -1e10)\n",
    "        weights = F.softmax(logits, dim=-1)\n",
    "        \n",
    "        attn_out = weights @ flat_v.transpose(2, 3)\n",
    "        attn_out = attn_out.transpose(2, 3)\n",
    "        attn_out = attn_out.reshape(B, -1, H, W)\n",
    "        return self.out_proj(ul, attn_out)\n",
    "        "
   ],
   "id": "299a307f665fc33b",
   "outputs": [],
   "execution_count": 225
  },
  {
   "metadata": {
    "ExecuteTime": {
     "end_time": "2024-08-17T18:44:40.685633Z",
     "start_time": "2024-08-17T18:44:40.675164Z"
    }
   },
   "cell_type": "code",
   "source": [
    "class PixelSNAIL(nn.Module):\n",
    "    def __init__(self, image_dims=(3, 32, 32), n_channels=128, n_res_layers=5, \n",
    "                 attn_n_layers=12, attn_n_hidden=1, attn_d_query=16, \n",
    "                 attn_d_value=128, attn_drop_rate=0, n_logistic_mix=10, \n",
    "                 n_cond_classes=None, drop_rate=0.5):\n",
    "        super().__init__()\n",
    "        \n",
    "        C, H, W = image_dims\n",
    "        background_v = (((torch.arange(H, dtype=torch.float) - H / 2) / 2)\n",
    "                        .view(1, 1, -1, 1).expand(1, C, H, W))\n",
    "        background_h = (((torch.arange(W, dtype=torch.float) - W / 2) / 2)\n",
    "                        .view(1, 1, 1, -1).expand(1, C, H, W))\n",
    "        self.register_buffer('background', torch.cat([background_v, background_h], 1))\n",
    "        attn_mask = torch.tril(torch.ones(1, 1, H*W, H*W), diagonal=-1).byte()\n",
    "        self.register_buffer('attn_mask', attn_mask)\n",
    "        \n",
    "        self.ul_input_d = DownShiftedConv2d(C+1, n_channels, kernel_size=(1, 3))\n",
    "        self.ul_input_dr = DownRightShiftedConv2d(C+1, n_channels, kernel_size=(2, 1))\n",
    "        \n",
    "        self.ul_modules = nn.ModuleList([\n",
    "            AttentionGatedResidualBlock(\n",
    "                n_channels, self.background.shape[1], n_res_layers, n_cond_classes, \n",
    "                drop_rate, attn_n_hidden, attn_d_query, attn_d_value, attn_drop_rate) \n",
    "            for _ in range(attn_n_layers)])\n",
    "        self.output_conv = Conv2d(n_channels, (3 * C + 1) * n_logistic_mix, 1)\n",
    "        \n",
    "    def forward(self, x, h=None):\n",
    "        x = F.pad(x, (0, 0, 0, 0, 0, 1), value=1)\n",
    "        \n",
    "        ul = self.down_shift(self.ul_input_d(x)) \\\n",
    "             + self.right_shift(self.ul_input_dr(x))\n",
    "        \n",
    "        for module in self.ul_modules:\n",
    "            ul = module(ul, self.background.expand(x.shape[0],-1,-1,-1), \n",
    "                        self.attn_mask, h)\n",
    "            \n",
    "        return self.output_conv(F.elu(ul))\n",
    "    \n",
    "    def down_shift(self, x):\n",
    "        return F.pad(x, (0,0,1,0))[:,:,:-1,:]\n",
    "\n",
    "    def right_shift(self, x):\n",
    "        return F.pad(x, (1,0))[:,:,:,:-1]"
   ],
   "id": "f3a1effbd44ddef0",
   "outputs": [],
   "execution_count": 226
  },
  {
   "metadata": {},
   "cell_type": "code",
   "outputs": [],
   "execution_count": null,
   "source": "# https://github.com/kamenbliznashki/pixel_models/tree/master",
   "id": "73c52032182d7c13"
  },
  {
   "metadata": {
    "ExecuteTime": {
     "end_time": "2024-08-17T18:44:40.722315Z",
     "start_time": "2024-08-17T18:44:40.714954Z"
    }
   },
   "cell_type": "code",
   "source": [
    "class DiscretizedLogisticMixLoss(nn.Module):\n",
    "    def __init__(self):\n",
    "        super(DiscretizedLogisticMixLoss, self).__init__()\n",
    "\n",
    "    def forward(self, y_true, y_pred):\n",
    "        # y_true shape (batch_size, H, W, C)\n",
    "        _, H, W, C = y_true.size()\n",
    "        num_pixels = float(H * W * C)\n",
    "\n",
    "        if C == 1:\n",
    "            pi, mu, logvar = torch.split(y_pred, 3, dim=-1)\n",
    "            mu = torch.unsqueeze(mu, dim=3)\n",
    "            logvar = torch.unsqueeze(logvar, dim=3)\n",
    "        else:  # C == 3\n",
    "            (pi, mu_r, mu_g, mu_b, logvar_r, logvar_g, logvar_b, alpha,\n",
    "             beta, gamma) = torch.split(y_pred, 10, dim=-1)\n",
    "\n",
    "            alpha = torch.tanh(alpha)\n",
    "            beta = torch.tanh(beta)\n",
    "            gamma = torch.tanh(gamma)\n",
    "\n",
    "            red = y_true[:,:,:,0:1]\n",
    "            green = y_true[:,:,:,1:2]\n",
    "\n",
    "            mu_g = mu_g + alpha * red\n",
    "            mu_b = mu_b + beta * red + gamma * green\n",
    "            mu = torch.stack([mu_r, mu_g, mu_b], dim=3)\n",
    "            logvar = torch.stack([logvar_r, logvar_g, logvar_b], dim=3)\n",
    "\n",
    "        logvar = torch.clamp(logvar, min=-7.)\n",
    "\n",
    "        # Add extra-dim for broadcasting channel-wise\n",
    "        y_true = torch.unsqueeze(y_true, dim=-1)\n",
    "\n",
    "        def cdf(x):  # logistic cdf\n",
    "            return torch.sigmoid((x - mu) * torch.exp(-logvar))\n",
    "\n",
    "        def log_cdf(x):  # log logistic cdf\n",
    "            return F.logsigmoid((x - mu) * torch.exp(-logvar))\n",
    "\n",
    "        def log_one_minus_cdf(x):  # log one minus logistic cdf\n",
    "            return -F.softplus((x - mu) * torch.exp(-logvar))\n",
    "\n",
    "        def log_pdf(x):  # log logistic pdf\n",
    "            norm = (x - mu) * torch.exp(-logvar)\n",
    "            return norm - logvar - 2. * F.softplus(norm)\n",
    "\n",
    "        half_pixel = 1 / 255.\n",
    "\n",
    "        cdf_plus = cdf(y_true + half_pixel)\n",
    "        cdf_min = cdf(y_true - half_pixel)\n",
    "\n",
    "        log_cdf_plus = log_cdf(y_true + half_pixel)\n",
    "        log_one_minus_cdf_min = log_one_minus_cdf(y_true - half_pixel)\n",
    "\n",
    "        cdf_delta = cdf_plus - cdf_min\n",
    "        cdf_delta = torch.clamp(cdf_delta, min=1e-12)\n",
    "\n",
    "        # At small probabilities the interval difference is approximated\n",
    "        # as the pdf value at the center\n",
    "        approx_log_cdf_delta = log_pdf(y_true) - torch.log(torch.tensor(127.5))\n",
    "        log_probs = torch.where(cdf_delta > 1e-5, torch.log(cdf_delta), approx_log_cdf_delta)\n",
    "\n",
    "        # Deal with edge cases\n",
    "        log_probs = torch.where(y_true > 0.999, log_one_minus_cdf_min, log_probs)\n",
    "        log_probs = torch.where(y_true < -0.999, log_cdf_plus, log_probs)\n",
    "\n",
    "        log_probs = torch.sum(log_probs, dim=3)  # whole pixel prob per component\n",
    "        log_probs += F.log_softmax(pi, dim=-1)  # multiply by mixture components\n",
    "        log_probs = torch.logsumexp(log_probs, dim=-1)  # add components probs\n",
    "        log_probs = torch.sum(log_probs, dim=[1, 2])\n",
    "\n",
    "        # Convert to bits per dim\n",
    "        bits_per_dim = -log_probs / num_pixels / torch.log(torch.tensor(2.))\n",
    "\n",
    "        return bits_per_dim"
   ],
   "id": "3a56e2f0b0170e64",
   "outputs": [],
   "execution_count": 227
  },
  {
   "metadata": {
    "ExecuteTime": {
     "end_time": "2024-08-17T18:44:40.770684Z",
     "start_time": "2024-08-17T18:44:40.754938Z"
    }
   },
   "cell_type": "code",
   "source": [
    "steps_per_epochs = len(train_dataset) // hp.batch_size\n",
    "decay_per_epoch = hp.lr_decay ** steps_per_epochs\n",
    "\n",
    "device = 'cuda' if torch.cuda.is_available() else 'cpu'\n",
    "model = PixelSNAIL(3, hp.d_hidden, hp.num_attn, hp.dropout, hp.num_res, hp.num_mix).to(device)\n",
    "optimizer = torch.optim.Adam(model.parameters(), lr=hp.lr) \n",
    "scheduler = torch.optim.lr_scheduler.ExponentialLR(optimizer, decay_per_epoch)"
   ],
   "id": "2957da17a82d5cc9",
   "outputs": [],
   "execution_count": 228
  },
  {
   "metadata": {
    "ExecuteTime": {
     "end_time": "2024-08-17T18:44:47.213326Z",
     "start_time": "2024-08-17T18:44:40.806696Z"
    }
   },
   "cell_type": "code",
   "source": [
    "losses = []\n",
    "\n",
    "for epoch in range(hp.num_epochs):\n",
    "    model.train()\n",
    "    total_loss = 0\n",
    "    \n",
    "    for  image, _ in tqdm(train_loader):\n",
    "        image = image.to(device)\n",
    "        \n",
    "        optimizer.zero_grad()\n",
    "        output = model(image)\n",
    "        \n",
    "        loss = DiscretizedLogisticMixLoss()(image, output)\n",
    "        total_loss += loss.item()\n",
    "        loss.backward()\n",
    "        optimizer.step()\n",
    "    \n",
    "    scheduler.step()\n",
    "    \n",
    "    ava_loss = total_loss / len(train_loader)\n",
    "    losses.append(ava_loss)\n",
    "\n",
    "torch.save(model.state_dict(), 'pixelsnail_model.pth')\n",
    "print('done')"
   ],
   "id": "2f01e073ebb8c845",
   "outputs": [
    {
     "name": "stderr",
     "output_type": "stream",
     "text": [
      "  0%|          | 0/782 [00:00<?, ?it/s]"
     ]
    },
    {
     "name": "stdout",
     "output_type": "stream",
     "text": [
      "torch.Size([64, 64, 31, 32])\n",
      "torch.Size([64, 64, 34, 30])\n"
     ]
    },
    {
     "name": "stderr",
     "output_type": "stream",
     "text": [
      "  0%|          | 0/782 [00:06<?, ?it/s]\n"
     ]
    },
    {
     "ename": "RuntimeError",
     "evalue": "The size of tensor a (32) must match the size of tensor b (31) at non-singleton dimension 3",
     "output_type": "error",
     "traceback": [
      "\u001B[1;31m---------------------------------------------------------------------------\u001B[0m",
      "\u001B[1;31mRuntimeError\u001B[0m                              Traceback (most recent call last)",
      "Cell \u001B[1;32mIn[229], line 11\u001B[0m\n\u001B[0;32m      8\u001B[0m image \u001B[38;5;241m=\u001B[39m image\u001B[38;5;241m.\u001B[39mto(device)\n\u001B[0;32m     10\u001B[0m optimizer\u001B[38;5;241m.\u001B[39mzero_grad()\n\u001B[1;32m---> 11\u001B[0m output \u001B[38;5;241m=\u001B[39m \u001B[43mmodel\u001B[49m\u001B[43m(\u001B[49m\u001B[43mimage\u001B[49m\u001B[43m)\u001B[49m\n\u001B[0;32m     13\u001B[0m loss \u001B[38;5;241m=\u001B[39m DiscretizedLogisticMixLoss()(image, output)\n\u001B[0;32m     14\u001B[0m total_loss \u001B[38;5;241m+\u001B[39m\u001B[38;5;241m=\u001B[39m loss\u001B[38;5;241m.\u001B[39mitem()\n",
      "File \u001B[1;32m~\\miniconda3\\envs\\dl\\Lib\\site-packages\\torch\\nn\\modules\\module.py:1553\u001B[0m, in \u001B[0;36mModule._wrapped_call_impl\u001B[1;34m(self, *args, **kwargs)\u001B[0m\n\u001B[0;32m   1551\u001B[0m     \u001B[38;5;28;01mreturn\u001B[39;00m \u001B[38;5;28mself\u001B[39m\u001B[38;5;241m.\u001B[39m_compiled_call_impl(\u001B[38;5;241m*\u001B[39margs, \u001B[38;5;241m*\u001B[39m\u001B[38;5;241m*\u001B[39mkwargs)  \u001B[38;5;66;03m# type: ignore[misc]\u001B[39;00m\n\u001B[0;32m   1552\u001B[0m \u001B[38;5;28;01melse\u001B[39;00m:\n\u001B[1;32m-> 1553\u001B[0m     \u001B[38;5;28;01mreturn\u001B[39;00m \u001B[38;5;28;43mself\u001B[39;49m\u001B[38;5;241;43m.\u001B[39;49m\u001B[43m_call_impl\u001B[49m\u001B[43m(\u001B[49m\u001B[38;5;241;43m*\u001B[39;49m\u001B[43margs\u001B[49m\u001B[43m,\u001B[49m\u001B[43m \u001B[49m\u001B[38;5;241;43m*\u001B[39;49m\u001B[38;5;241;43m*\u001B[39;49m\u001B[43mkwargs\u001B[49m\u001B[43m)\u001B[49m\n",
      "File \u001B[1;32m~\\miniconda3\\envs\\dl\\Lib\\site-packages\\torch\\nn\\modules\\module.py:1562\u001B[0m, in \u001B[0;36mModule._call_impl\u001B[1;34m(self, *args, **kwargs)\u001B[0m\n\u001B[0;32m   1557\u001B[0m \u001B[38;5;66;03m# If we don't have any hooks, we want to skip the rest of the logic in\u001B[39;00m\n\u001B[0;32m   1558\u001B[0m \u001B[38;5;66;03m# this function, and just call forward.\u001B[39;00m\n\u001B[0;32m   1559\u001B[0m \u001B[38;5;28;01mif\u001B[39;00m \u001B[38;5;129;01mnot\u001B[39;00m (\u001B[38;5;28mself\u001B[39m\u001B[38;5;241m.\u001B[39m_backward_hooks \u001B[38;5;129;01mor\u001B[39;00m \u001B[38;5;28mself\u001B[39m\u001B[38;5;241m.\u001B[39m_backward_pre_hooks \u001B[38;5;129;01mor\u001B[39;00m \u001B[38;5;28mself\u001B[39m\u001B[38;5;241m.\u001B[39m_forward_hooks \u001B[38;5;129;01mor\u001B[39;00m \u001B[38;5;28mself\u001B[39m\u001B[38;5;241m.\u001B[39m_forward_pre_hooks\n\u001B[0;32m   1560\u001B[0m         \u001B[38;5;129;01mor\u001B[39;00m _global_backward_pre_hooks \u001B[38;5;129;01mor\u001B[39;00m _global_backward_hooks\n\u001B[0;32m   1561\u001B[0m         \u001B[38;5;129;01mor\u001B[39;00m _global_forward_hooks \u001B[38;5;129;01mor\u001B[39;00m _global_forward_pre_hooks):\n\u001B[1;32m-> 1562\u001B[0m     \u001B[38;5;28;01mreturn\u001B[39;00m \u001B[43mforward_call\u001B[49m\u001B[43m(\u001B[49m\u001B[38;5;241;43m*\u001B[39;49m\u001B[43margs\u001B[49m\u001B[43m,\u001B[49m\u001B[43m \u001B[49m\u001B[38;5;241;43m*\u001B[39;49m\u001B[38;5;241;43m*\u001B[39;49m\u001B[43mkwargs\u001B[49m\u001B[43m)\u001B[49m\n\u001B[0;32m   1564\u001B[0m \u001B[38;5;28;01mtry\u001B[39;00m:\n\u001B[0;32m   1565\u001B[0m     result \u001B[38;5;241m=\u001B[39m \u001B[38;5;28;01mNone\u001B[39;00m\n",
      "Cell \u001B[1;32mIn[226], line 59\u001B[0m, in \u001B[0;36mPixelSNAIL.forward\u001B[1;34m(self, x)\u001B[0m\n\u001B[0;32m     56\u001B[0m \u001B[38;5;28mprint\u001B[39m(\u001B[38;5;28mself\u001B[39m\u001B[38;5;241m.\u001B[39mhead_conv_h(x)\u001B[38;5;241m.\u001B[39mshape)\n\u001B[0;32m     57\u001B[0m \u001B[38;5;28mprint\u001B[39m(\u001B[38;5;28mself\u001B[39m\u001B[38;5;241m.\u001B[39mhead_conv_v(x)\u001B[38;5;241m.\u001B[39mshape)\n\u001B[1;32m---> 59\u001B[0m h \u001B[38;5;241m=\u001B[39m \u001B[38;5;28;43mself\u001B[39;49m\u001B[38;5;241;43m.\u001B[39;49m\u001B[43mdown_shift\u001B[49m\u001B[43m(\u001B[49m\u001B[38;5;28;43mself\u001B[39;49m\u001B[38;5;241;43m.\u001B[39;49m\u001B[43mhead_conv_h\u001B[49m\u001B[43m(\u001B[49m\u001B[43mx\u001B[49m\u001B[43m)\u001B[49m\u001B[43m)\u001B[49m\u001B[43m \u001B[49m\u001B[38;5;241;43m+\u001B[39;49m\u001B[43m \u001B[49m\u001B[38;5;28;43mself\u001B[39;49m\u001B[38;5;241;43m.\u001B[39;49m\u001B[43mright_shift\u001B[49m\u001B[43m(\u001B[49m\u001B[38;5;28;43mself\u001B[39;49m\u001B[38;5;241;43m.\u001B[39;49m\u001B[43mhead_conv_v\u001B[49m\u001B[43m(\u001B[49m\u001B[43mx\u001B[49m\u001B[43m)\u001B[49m\u001B[43m)\u001B[49m\n\u001B[0;32m     61\u001B[0m h, w \u001B[38;5;241m=\u001B[39m h\u001B[38;5;241m.\u001B[39mshape[\u001B[38;5;241m-\u001B[39m\u001B[38;5;241m2\u001B[39m], h\u001B[38;5;241m.\u001B[39mshape[\u001B[38;5;241m-\u001B[39m\u001B[38;5;241m1\u001B[39m]\n\u001B[0;32m     62\u001B[0m background \u001B[38;5;241m=\u001B[39m torch\u001B[38;5;241m.\u001B[39mcat([\n\u001B[0;32m     63\u001B[0m     ((torch\u001B[38;5;241m.\u001B[39marange(h, dtype\u001B[38;5;241m=\u001B[39mtorch\u001B[38;5;241m.\u001B[39mfloat32) \u001B[38;5;241m-\u001B[39m h \u001B[38;5;241m/\u001B[39m \u001B[38;5;241m2\u001B[39m) \u001B[38;5;241m/\u001B[39m \u001B[38;5;241m2\u001B[39m)\u001B[38;5;241m.\u001B[39munsqueeze(\u001B[38;5;241m1\u001B[39m)\u001B[38;5;241m.\u001B[39munsqueeze(\u001B[38;5;241m-\u001B[39m\u001B[38;5;241m1\u001B[39m) \u001B[38;5;241m+\u001B[39m \u001B[38;5;241m0.0\u001B[39m \u001B[38;5;241m*\u001B[39m x,\n\u001B[0;32m     64\u001B[0m     ((torch\u001B[38;5;241m.\u001B[39marange(w, dtype\u001B[38;5;241m=\u001B[39mtorch\u001B[38;5;241m.\u001B[39mfloat32) \u001B[38;5;241m-\u001B[39m w \u001B[38;5;241m/\u001B[39m \u001B[38;5;241m2\u001B[39m) \u001B[38;5;241m/\u001B[39m \u001B[38;5;241m2\u001B[39m)\u001B[38;5;241m.\u001B[39munsqueeze(\u001B[38;5;241m0\u001B[39m)\u001B[38;5;241m.\u001B[39munsqueeze(\u001B[38;5;241m-\u001B[39m\u001B[38;5;241m1\u001B[39m) \u001B[38;5;241m+\u001B[39m \u001B[38;5;241m0.0\u001B[39m \u001B[38;5;241m*\u001B[39m x\n\u001B[0;32m     65\u001B[0m ], dim\u001B[38;5;241m=\u001B[39m\u001B[38;5;241m-\u001B[39m\u001B[38;5;241m1\u001B[39m)\n",
      "\u001B[1;31mRuntimeError\u001B[0m: The size of tensor a (32) must match the size of tensor b (31) at non-singleton dimension 3"
     ]
    }
   ],
   "execution_count": 229
  }
 ],
 "metadata": {
  "kernelspec": {
   "display_name": "Python 3",
   "language": "python",
   "name": "python3"
  },
  "language_info": {
   "codemirror_mode": {
    "name": "ipython",
    "version": 2
   },
   "file_extension": ".py",
   "mimetype": "text/x-python",
   "name": "python",
   "nbconvert_exporter": "python",
   "pygments_lexer": "ipython2",
   "version": "2.7.6"
  }
 },
 "nbformat": 4,
 "nbformat_minor": 5
}
