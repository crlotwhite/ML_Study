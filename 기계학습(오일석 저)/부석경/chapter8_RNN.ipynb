{
 "cells": [
  {
   "cell_type": "code",
   "execution_count": 15,
   "metadata": {},
   "outputs": [
    {
     "name": "stdout",
     "output_type": "stream",
     "text": [
      "[0.52994751 0.47005249]\n",
      "[0.52622329 0.47377671]\n",
      "[0.5246795 0.4753205]\n",
      "[0.52742785 0.47257215]\n",
      "[0.52634276 0.47365724]\n",
      "[0.52568858 0.47431142]\n"
     ]
    }
   ],
   "source": [
    "import numpy as np\n",
    "\n",
    "def softmax(x):\n",
    "    exp_x = np.exp(x - np.max(x))\n",
    "    return exp_x / np.sum(exp_x)\n",
    "\n",
    "U = np.array([[0.1,0.0,0.0],[0.1,0.0,-0.1]])\n",
    "W = np.array([[0.1,0.1,0.2],[0.1,0.0,-0.1],[0.0,0.0,-0.1]])\n",
    "V = np.array([[0.0,-0.2],[0.1,0.0],[0.0,0.0]])\n",
    "b = np.array([0.0,0.0,0.2])\n",
    "c = np.array([0.2,0.1])\n",
    "\n",
    "x = np.array([[0.0,1.0],[0.0,0.1],[0.1,-0.2],[0.5,0.0],[0.1,0.1],[0.1,0.0]])\n",
    "y = np.array([[0.7,0.4],[0.3,0.4],[0.2,0.4],[0.4,0.5]])\n",
    "\n",
    "h = np.array([0.0,0.0,0.0])\n",
    "for i in range(len(x)):\n",
    "    a = np.dot(h,W)+np.dot(x[i],U)+b\n",
    "    h = np.tanh(a)\n",
    "    y = softmax(np.dot(h,V)+c)\n",
    "    print(y)\n",
    "\n"
   ]
  }
 ],
 "metadata": {
  "kernelspec": {
   "display_name": "Python 3",
   "language": "python",
   "name": "python3"
  },
  "language_info": {
   "codemirror_mode": {
    "name": "ipython",
    "version": 3
   },
   "file_extension": ".py",
   "mimetype": "text/x-python",
   "name": "python",
   "nbconvert_exporter": "python",
   "pygments_lexer": "ipython3",
   "version": "3.10.11"
  }
 },
 "nbformat": 4,
 "nbformat_minor": 2
}
