{
  "nbformat": 4,
  "nbformat_minor": 0,
  "metadata": {
    "colab": {
      "provenance": []
    },
    "kernelspec": {
      "name": "python3",
      "display_name": "Python 3"
    },
    "language_info": {
      "name": "python"
    }
  },
  "cells": [
    {
      "cell_type": "markdown",
      "source": [
        "문제 1"
      ],
      "metadata": {
        "id": "-pl8QRIf5P6T"
      }
    },
    {
      "cell_type": "code",
      "execution_count": 48,
      "metadata": {
        "colab": {
          "base_uri": "https://localhost:8080/"
        },
        "id": "GqdeZ8ZU4eME",
        "outputId": "d3983bc5-b74f-498d-c3bd-4ce8fb976c61"
      },
      "outputs": [
        {
          "output_type": "stream",
          "name": "stdout",
          "text": [
            "[0.13250053 0.65627943 0.08890663 0.12231341]\n"
          ]
        }
      ],
      "source": [
        "import numpy as np\n",
        "\n",
        "Y = np.array([0.4, 2.0, 0.001, 0.32])\n",
        "\n",
        "# softmax\n",
        "def softmax(x):\n",
        "    e_x = np.exp(x - np.max(x))\n",
        "    return e_x / e_x.sum()\n",
        "\n",
        "print(softmax(Y))"
      ]
    },
    {
      "cell_type": "markdown",
      "source": [
        "문제 2"
      ],
      "metadata": {
        "id": "tC4wm6i56_FJ"
      }
    },
    {
      "cell_type": "code",
      "source": [
        "# output\n",
        "pred = np.array([0.001, 0.9, 0.001, 0.098])\n",
        "label = np.array([0, 0, 0, 1])\n",
        "\n",
        "# mse\n",
        "def mse(pred, label):\n",
        "    return np.sum((pred - label)**2)\n",
        "\n",
        "print(mse(pred, label))\n",
        "\n",
        "# cd\n",
        "def ce(pred, label):\n",
        "    return -np.sum(label * np.log(pred))\n",
        "\n",
        "print(ce(pred, label))\n",
        "\n",
        "# log likelihood\n",
        "def log_likelihood(pred, label):\n",
        "    return np.sum(label * np.log(pred))\n",
        "\n",
        "print(log_likelihood(pred, label))\n"
      ],
      "metadata": {
        "colab": {
          "base_uri": "https://localhost:8080/"
        },
        "id": "YMOK9qVH7AKU",
        "outputId": "0f427d28-c7fa-4b69-f96b-fe84dfc007d7"
      },
      "execution_count": 49,
      "outputs": [
        {
          "output_type": "stream",
          "name": "stdout",
          "text": [
            "1.623606\n",
            "2.322787800311565\n",
            "-2.322787800311565\n"
          ]
        }
      ]
    },
    {
      "cell_type": "markdown",
      "source": [
        "문제 3"
      ],
      "metadata": {
        "id": "kL7pvRPD_fIG"
      }
    },
    {
      "cell_type": "code",
      "source": [
        "X = [[1, 1],\n",
        " [2, 3],\n",
        " [3, 3]]\n",
        "\n",
        "X = np.array(X)\n",
        "\n",
        "Y = np.array([3.0, 7.0, 8.8])\n",
        "\n",
        "def ridge_regression(X, y, lam):\n",
        "    # X: 입력 데이터 (n_samples, n_features)\n",
        "    # y: 타겟 값 (n_samples,)\n",
        "    # lam: 정규화 파라미터 (lambda)\n",
        "\n",
        "    # X^T * X 계산\n",
        "    XtX = np.dot(X.T, X)\n",
        "\n",
        "    # 정규화 항 추가\n",
        "    identity_matrix = np.eye(X.shape[1])  # 항등 행렬\n",
        "    XtX_lam = XtX + (2 * lam * identity_matrix)\n",
        "\n",
        "    # 역행렬 계산\n",
        "    XtX_lam_inv = np.linalg.inv(XtX_lam)\n",
        "\n",
        "    # 가중치 계산\n",
        "    w_hat = np.dot(XtX_lam_inv, np.dot(X.T, y))\n",
        "\n",
        "    return w_hat\n",
        "\n",
        "print(ridge_regression(X, Y, 0.25))\n",
        "print(ridge_regression(X, Y, 0.1))\n",
        "print(ridge_regression(X, Y, 0.5))"
      ],
      "metadata": {
        "colab": {
          "base_uri": "https://localhost:8080/"
        },
        "id": "LQgkbtrh_GzG",
        "outputId": "5fbadadd-ccb1-4049-bc8a-f6330b1bef12"
      },
      "execution_count": 50,
      "outputs": [
        {
          "output_type": "stream",
          "name": "stdout",
          "text": [
            "[1.49158879 1.36074766]\n",
            "[1.61538462 1.27884615]\n",
            "[1.4 1.4]\n"
          ]
        }
      ]
    },
    {
      "cell_type": "markdown",
      "source": [
        "lambda가 커질 수록 W가 크게 줄어든다."
      ],
      "metadata": {
        "id": "-xjBM9iHCt6i"
      }
    },
    {
      "cell_type": "markdown",
      "source": [
        "문제 4"
      ],
      "metadata": {
        "id": "kNwnYaNiDMOR"
      }
    },
    {
      "cell_type": "code",
      "source": [
        "X = [[1, 1], [2, 2], [1, -1], [1, -2]]\n",
        "Y = [-1.8, -3.6, 4.2, 7.2]\n",
        "\n",
        "X = np.array(X)\n",
        "Y = np.array(Y)\n",
        "\n",
        "new_X = np.array([4, 4])\n",
        "\n",
        "def pred(X, Y, lam, new_x):\n",
        "    # X: 입력 데이터 (n_samples, n_features)\n",
        "    # y: 타겟 값 (n_samples,)\n",
        "    # lam: 정규화 파라미터 (lambda)\n",
        "\n",
        "    W = ridge_regression(X, Y, lam)\n",
        "    return np.dot(X, W), np.dot(new_x, W)\n",
        "\n",
        "print(pred(X, Y, 0.25, new_X)) # 4-1\n",
        "print(pred(X, Y, 0.125, new_X)) # 4-3\n",
        "print(pred(X, Y, 0.5, new_X)) # 4-3"
      ],
      "metadata": {
        "colab": {
          "base_uri": "https://localhost:8080/"
        },
        "id": "YJ_Ybb4o_d1P",
        "outputId": "356096cb-2558-4d2d-815f-3cd5f5c4b2c3"
      },
      "execution_count": 51,
      "outputs": [
        {
          "output_type": "stream",
          "name": "stdout",
          "text": [
            "(array([-1.75785953, -3.51571906,  3.9090301 ,  6.74247492]), -7.0314381270903015)\n",
            "(array([-1.7792    , -3.5584    ,  4.04906667,  6.9632    ]), -7.116799999999999)\n",
            "(array([-1.71428571, -3.42857143,  3.65714286,  6.34285714]), -6.857142857142856)\n"
          ]
        }
      ]
    },
    {
      "cell_type": "markdown",
      "source": [
        "문제 5"
      ],
      "metadata": {
        "id": "nQJ8ycq9Fpvo"
      }
    },
    {
      "cell_type": "code",
      "source": [
        "data = np.array([\n",
        "    [121, 1.72, 69.0],\n",
        "    [140, 1.62, 63.2],\n",
        "    [120, 1.70, 59.0],\n",
        "    [131, 1.80, 82.0],\n",
        "    [101, 1.78, 73.5]\n",
        "])\n",
        "\n",
        "w = np.array([-0.01, 0.5, -0.23])\n",
        "bias = 0\n",
        "\n"
      ],
      "metadata": {
        "id": "qNAG1eP5DpGE"
      },
      "execution_count": 52,
      "outputs": []
    },
    {
      "cell_type": "markdown",
      "source": [
        "첫 번째 특성이 모델의 범위가 너무 커서 미치는 영향이 첫번째 특성에 크게 영향을 받을 것이다.\n",
        "\n",
        "키가 모델의 예측에 큰 영향을 미치지만, 체중은 상대적으로 적은 영향을 미친다.\n",
        "\n",
        "데이터의 스케일이 다르면 경사 하강법과 같은 최적화 알고리즘이 수렴하는 데 더 오랜 시간이 걸릴 수 있다."
      ],
      "metadata": {
        "id": "tBIgXLJvGTzl"
      }
    },
    {
      "cell_type": "code",
      "source": [
        "# Z-score 정규화\n",
        "mean = np.mean(data, axis=0)  # 각 특성의 평균\n",
        "std = np.std(data, axis=0)     # 각 특성의 표준편차\n",
        "\n",
        "z_score_normalized = (data - mean) / std\n",
        "\n",
        "print(z_score_normalized)"
      ],
      "metadata": {
        "colab": {
          "base_uri": "https://localhost:8080/"
        },
        "id": "_GrRu7MgHLle",
        "outputId": "c0b12d94-61e0-41a7-af66-0556a3c5ba8e"
      },
      "execution_count": 53,
      "outputs": [
        {
          "output_type": "stream",
          "name": "stdout",
          "text": [
            "[[-0.12277219 -0.06274558 -0.0423473 ]\n",
            " [ 1.33514753 -1.63138509 -0.76474234]\n",
            " [-0.1995048  -0.37647348 -1.28785599]\n",
            " [ 0.64455398  1.19216603  1.57681401]\n",
            " [-1.65742452  0.87843813  0.51813162]]\n"
          ]
        }
      ]
    },
    {
      "cell_type": "markdown",
      "source": [
        "문제 6\n",
        "\n",
        "각 합성곱 층의 필터 가중치는 He 초기화 방식으로 설정하고, 편향은 일반적으로 0으로 초기화한다."
      ],
      "metadata": {
        "id": "ZAPzhKV9HpX3"
      }
    },
    {
      "cell_type": "markdown",
      "source": [
        "문제 7"
      ],
      "metadata": {
        "id": "UEF-S7W8IDE2"
      }
    },
    {
      "cell_type": "code",
      "source": [
        "def nesterov_momentum(gradient_func, initial_theta, learning_rate, momentum, num_iterations):\n",
        "    # 초기화\n",
        "    theta = initial_theta\n",
        "    v = np.zeros_like(theta)  # 모멘텀 초기화\n",
        "\n",
        "    for i in range(num_iterations):\n",
        "\n",
        "        # 기울기 계산\n",
        "        gradient = gradient_func(theta)\n",
        "\n",
        "        # 모멘텀 업데이트\n",
        "        v = momentum * v + learning_rate * gradient\n",
        "\n",
        "        # 최종 theta 업데이트\n",
        "        theta = theta + v\n",
        "\n",
        "    return theta\n",
        "\n",
        "# theta + av 가 생략됬다."
      ],
      "metadata": {
        "id": "TSd2n5e7Hdwx"
      },
      "execution_count": 54,
      "outputs": []
    },
    {
      "cell_type": "markdown",
      "source": [
        "문제 9"
      ],
      "metadata": {
        "id": "lBFgfQNzJivS"
      }
    },
    {
      "cell_type": "code",
      "source": [
        "def nesterov_adam(gradient_func, initial_theta, learning_rate=0.001, beta1=0.9, beta2=0.999, epsilon=1e-8, num_iterations=1000):\n",
        "    # 초기화\n",
        "    theta = initial_theta\n",
        "    v = np.zeros_like(theta)  # 모멘텀\n",
        "    r = np.zeros_like(theta)  # 누적 제곱 기울기\n",
        "    t = 0  # 반복 횟수\n",
        "\n",
        "    for i in range(num_iterations):\n",
        "        t += 1\n",
        "\n",
        "        # Nesterov 모멘텀 적용\n",
        "        theta = theta - beta1 * v\n",
        "\n",
        "        # 기울기 계산\n",
        "        gradient = gradient_func(theta)\n",
        "\n",
        "        # 모멘텀 업데이트\n",
        "        v = beta1 * v + (1 - beta1) * gradient\n",
        "\n",
        "        # 누적 제곱 기울기 업데이트\n",
        "        r = beta2 * r + (1 - beta2) * (gradient ** 2)\n",
        "\n",
        "        # bias correction\n",
        "        v_hat = v / (1 - beta1 ** t)\n",
        "        r_hat = r / (1 - beta2 ** t)\n",
        "\n",
        "        # 매개변수 업데이트\n",
        "        theta -= learning_rate * v_hat / (np.sqrt(r_hat) + epsilon)\n",
        "\n",
        "    return theta\n",
        "\n"
      ],
      "metadata": {
        "id": "Ews2t7hxI7w6"
      },
      "execution_count": 55,
      "outputs": []
    },
    {
      "cell_type": "markdown",
      "source": [
        "문제 10"
      ],
      "metadata": {
        "id": "N_5BPU2ZM8YH"
      }
    },
    {
      "cell_type": "code",
      "source": [
        "w = np.array([4.0, 2.0])\n",
        "ro = 0.2\n",
        "\n",
        "def j(w):\n",
        "    w1 = w[0]\n",
        "    w2 = w[1]\n",
        "    return np.array([2*(w1-2), 8*(w2-1)])\n",
        "\n",
        "w1 = w\n",
        "w2 = w1 - ro*j(w1)\n",
        "print(w2)\n",
        "\n",
        "w3 = w2 - ro*j(w2)\n",
        "print(w3)\n",
        "\n",
        "w4 = w3 - ro*j(w3)\n",
        "print(w4)\n",
        "\n",
        "w5 = w4 - ro*j(w4)\n",
        "print(w5)\n",
        "\n",
        "w6 = w5 - ro*j(w5)\n",
        "print(w6)\n",
        "\n",
        "w7 = w6 - ro*j(w6)\n",
        "print(w7)\n",
        "\n"
      ],
      "metadata": {
        "colab": {
          "base_uri": "https://localhost:8080/"
        },
        "id": "QMQCXEMIM9ib",
        "outputId": "5e57c8b6-f1f0-446b-cfc9-3751f3d8091e"
      },
      "execution_count": 56,
      "outputs": [
        {
          "output_type": "stream",
          "name": "stdout",
          "text": [
            "[3.2 0.4]\n",
            "[2.72 1.36]\n",
            "[2.432 0.784]\n",
            "[2.2592 1.1296]\n",
            "[2.15552 0.92224]\n",
            "[2.093312 1.046656]\n"
          ]
        }
      ]
    },
    {
      "cell_type": "markdown",
      "source": [
        "문제 11"
      ],
      "metadata": {
        "id": "N11Vlh02PHRM"
      }
    },
    {
      "cell_type": "code",
      "source": [
        "def generate_random_number(r):\n",
        "    return np.random.uniform(-r, r)"
      ],
      "metadata": {
        "id": "1fyGygK1PIM1"
      },
      "execution_count": 57,
      "outputs": []
    },
    {
      "cell_type": "markdown",
      "source": [
        "문제 13"
      ],
      "metadata": {
        "id": "8F6Tx1s4PJJz"
      }
    },
    {
      "cell_type": "code",
      "source": [
        "w1 = np.array([4.0, 2.0, 3.0])\n",
        "ro = 0.2\n",
        "\n",
        "def j(w):\n",
        "    return np.array([4*(w[0]-2), 2*(w[1]-1), 4*(w[2]-1)])\n",
        "\n",
        "w2 = w1 - ro*j(w1)\n",
        "w2"
      ],
      "metadata": {
        "colab": {
          "base_uri": "https://localhost:8080/"
        },
        "id": "yn10fSZuPKIk",
        "outputId": "9e594dac-1e77-4325-ac93-a14acdd42405"
      },
      "execution_count": 58,
      "outputs": [
        {
          "output_type": "execute_result",
          "data": {
            "text/plain": [
              "array([2.4, 1.6, 1.4])"
            ]
          },
          "metadata": {},
          "execution_count": 58
        }
      ]
    },
    {
      "cell_type": "markdown",
      "source": [
        "문제 14"
      ],
      "metadata": {
        "id": "Q_ztdjL1RohT"
      }
    },
    {
      "cell_type": "code",
      "source": [
        "import numpy as np\n",
        "import sympy as sp\n",
        "\n",
        "# 심파이에서 기호 변수 정의\n",
        "w1, w2, w3 = sp.symbols('w1 w2 w3')\n",
        "\n",
        "# 함수 정의\n",
        "f = 2*(w1 - 2)**2 + (w2 - 1)**2 + 2*(w3 - 2)**2\n",
        "\n",
        "# 해시언 행렬 계산\n",
        "H = sp.hessian(f, (w1, w2, w3))\n",
        "\n",
        "print(\"기호적 해시언 행렬:\")\n",
        "sp.pprint(H)\n",
        "\n",
        "# 수치적으로 해시언 행렬 계산\n",
        "# 예를 들어, (w1, w2, w3) = (1, 2, 3)에서의 해시언 행렬을 계산하고자 할 때:\n",
        "H_numeric = H.subs({w1: 1, w2: 2, w3: 3})\n",
        "H_numpy = np.array(H_numeric).astype(np.float64)\n",
        "\n",
        "print(\"\\n수치적 해시언 행렬 (w1=1, w2=2, w3=3):\")\n",
        "print(H_numpy)\n"
      ],
      "metadata": {
        "colab": {
          "base_uri": "https://localhost:8080/"
        },
        "id": "kTVo14npRphM",
        "outputId": "4266796a-fa86-4f54-e0d3-a269cb3497fa"
      },
      "execution_count": 59,
      "outputs": [
        {
          "output_type": "stream",
          "name": "stdout",
          "text": [
            "기호적 해시언 행렬:\n",
            "⎡4  0  0⎤\n",
            "⎢       ⎥\n",
            "⎢0  2  0⎥\n",
            "⎢       ⎥\n",
            "⎣0  0  4⎦\n",
            "\n",
            "수치적 해시언 행렬 (w1=1, w2=2, w3=3):\n",
            "[[4. 0. 0.]\n",
            " [0. 2. 0.]\n",
            " [0. 0. 4.]]\n"
          ]
        }
      ]
    },
    {
      "cell_type": "code",
      "source": [
        "w1 = np.array([4.0, 2.0, 3.0])\n",
        "ro = 0.2\n",
        "\n",
        "def j(w):\n",
        "    return np.array([4*(w[0]-2), 16*(w[1]-1),4*(w[2]-1)])\n",
        "\n",
        "w2 = w1 - np.power(H_numpy, -1)*ro*j(w1)\n",
        "w2"
      ],
      "metadata": {
        "colab": {
          "base_uri": "https://localhost:8080/"
        },
        "id": "8flDBzoQPqxL",
        "outputId": "939e9290-270c-420e-b997-f842e0103106"
      },
      "execution_count": 60,
      "outputs": [
        {
          "output_type": "stream",
          "name": "stderr",
          "text": [
            "<ipython-input-60-35d2f6b23988>:7: RuntimeWarning: divide by zero encountered in power\n",
            "  w2 = w1 - np.power(H_numpy, -1)*ro*j(w1)\n"
          ]
        },
        {
          "output_type": "execute_result",
          "data": {
            "text/plain": [
              "array([[ 3.6, -inf, -inf],\n",
              "       [-inf,  0.4, -inf],\n",
              "       [-inf, -inf,  2.6]])"
            ]
          },
          "metadata": {},
          "execution_count": 60
        }
      ]
    }
  ]
}