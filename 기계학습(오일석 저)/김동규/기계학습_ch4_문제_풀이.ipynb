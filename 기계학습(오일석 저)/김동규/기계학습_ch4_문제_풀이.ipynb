{
  "nbformat": 4,
  "nbformat_minor": 0,
  "metadata": {
    "colab": {
      "provenance": []
    },
    "kernelspec": {
      "name": "python3",
      "display_name": "Python 3"
    },
    "language_info": {
      "name": "python"
    }
  },
  "cells": [
    {
      "cell_type": "markdown",
      "source": [
        "문제 1"
      ],
      "metadata": {
        "id": "eRhvN2A2ZTC_"
      }
    },
    {
      "cell_type": "code",
      "source": [
        "U^l, l=1 to L 초기화\n",
        "repeat\n",
        "    X와 Y에서 t개의 샘플을 무작위로 뽑아 미니배치 X'와 Y'를 만든다\n",
        "\n",
        "    for l in range(1, L):\n",
        "        \\delta U^l = 0\n",
        "\n",
        "    현재 처리하는 샘플을 x= (x_0, x_1, x_2, ...)^T, y= (y_0, y_1, y_2 ..)^T 라 표기한다\n",
        "    x_0 = z_0 = 1\n",
        "    for l in (1, L):\n",
        "        S^l = U^l*Z^{l-1}\n",
        "        Z^l = tau_l(S^l)\n",
        "    delta_L = tau_L(S^L)(Y-O)\n",
        "    delta_U^L += -delta^L * Z^L-1\n",
        "\n",
        "    for l in range(L-1, 1, -1):\n",
        "        delta_l = tau^'_l (S^l) sum_p=1^n_l+1 delta^l+1_p * u_p^l+1\n",
        "        delta_u^l += -delta_l * Z^l-1\n",
        "\n",
        "    for l in range(L, 1, -1):\n",
        "        U^l -= rou(1/t) * delta U^l\n",
        "\n",
        "until (stop_condition)"
      ],
      "metadata": {
        "id": "BZwXHejWaANO"
      },
      "execution_count": null,
      "outputs": []
    },
    {
      "cell_type": "markdown",
      "source": [
        "문제 2"
      ],
      "metadata": {
        "id": "i5VtsOITaAo-"
      }
    },
    {
      "cell_type": "markdown",
      "source": [
        "$$ \\left( \\mathbf{X}_c \\ast \\mathbf{W}c \\right)(i, j) = \\sum{y=-(h-1)/2}^{(h-1)/2} \\sum{x=-(h-1)/2}^{(h-1)/2} X_c(i + y, j + x) \\cdot W_c(y, x) $$"
      ],
      "metadata": {
        "id": "TA2mSqm9fv6S"
      }
    },
    {
      "cell_type": "markdown",
      "source": [
        "$$  \\left( \\mathbf{X}c \\ast \\mathbf{W}c \\right)(t, i, j) = \\sum{z=-(h-1)/2}^{(h-1)/2} \\sum{y=-(h-1)/2}^{(h-1)/2} \\sum_{x=-(h-1)/2}^{(h-1)/2} X_c(t + z, i + y, j + x) \\cdot W_c(z, y, x)  $$"
      ],
      "metadata": {
        "id": "2mVhVIIXf23B"
      }
    },
    {
      "cell_type": "markdown",
      "source": [
        "문제 3"
      ],
      "metadata": {
        "id": "O7nHG945f2o3"
      }
    },
    {
      "cell_type": "markdown",
      "source": [
        "1. 컨볼루션 레이어 적용:  \n",
        "•\t입력 이미지에 여러 층의 컨볼루션과 풀링 레이어를 적용하여 특징 맵을 생성합니다. 이 단계는 일반적인 CNN과 동일합니다.\n",
        "\n",
        "\n",
        "2.\tSpatial Pyramid Pooling 레이어 적용:  \n",
        "•\t생성된 특징 맵에 대해 SPP 레이어를 적용합니다. SPP는 다양한 크기의 풀링 윈도우를 사용하여 입력 특징 맵을 여러 레벨로 나누고, 각 레벨에서 고정된 크기의 출력을 생성합니다.  \n",
        "•\t예를 들어, SPP는 (1 \\times 1), (2 \\times 2), (4 \\times 4) 등 다양한 크기의 풀링 윈도우를 사용할 수 있습니다.  \n",
        "•\t각 풀링 윈도우는 해당 영역 내에서 최대값을 선택하는 Max Pooling을 적용합니다.  \n",
        "\n",
        "\n",
        "3.\t고정된 크기의 벡터 생성:  \n",
        "•\t각 레벨에서 생성된 풀링 결과는 고정된 크기의 벡터로 변환됩니다. 이 벡터들은 모두 연결(concatenate)되어 최종적으로 고정된 크기의 하나의 벡터를 형성합니다.  \n",
        "•\t이 벡터는 이후의 완전 연결 층(fully connected layer)으로 전달되어 학습과 분류 작업에 사용됩니다.  "
      ],
      "metadata": {
        "id": "Jp_zbAw2f5Yp"
      }
    },
    {
      "cell_type": "markdown",
      "source": [
        "문제 4"
      ],
      "metadata": {
        "id": "6ErvRHdIgnvQ"
      }
    },
    {
      "cell_type": "markdown",
      "source": [
        "당시에 컴퓨팅 파워가 부족 또한 지금처럼 인터넷을 기반으로 거대한 데이터셋을 얻을 수 없었음."
      ],
      "metadata": {
        "id": "J65lV2LXg021"
      }
    },
    {
      "cell_type": "markdown",
      "source": [
        "문제 5"
      ],
      "metadata": {
        "id": "a7uQ55Xig8iF"
      }
    },
    {
      "cell_type": "code",
      "source": [
        "import numpy as np\n",
        "\n",
        "# 입력값\n",
        "x = np.array([1, 1, 1])\n",
        "\n",
        "# 은닉층 1 가중치\n",
        "w1 = np.array([\n",
        "    [0.3, 1.0, 1.0],\n",
        "    [1.2, -1.0, 1.6],\n",
        "    [-1.1, 0.5, 0.1]\n",
        "])\n",
        "\n",
        "# 은닉층 2 가중치\n",
        "w2 = np.array([\n",
        "    [-0.8, 0.7, 1.0],\n",
        "    [0.1, -0.1, 0.3],\n",
        "    [0.1, 1.0, 0.2]\n",
        "])\n",
        "\n",
        "# 은닉층 3 가중치\n",
        "w3 = np.array([\n",
        "    [1.0, -0.2],\n",
        "    [0.1, -0.1],\n",
        "    [1.3, 0.2]\n",
        "])\n",
        "\n",
        "# 출력층 가중치\n",
        "wo = np.array([\n",
        "    [1.0, 0.4],\n",
        "    [-0.4, 1.0]\n",
        "])\n",
        "\n",
        "# 활성화 함수\n",
        "def sigmoid(x):\n",
        "    return 1 / (1 + np.exp(-x))\n",
        "\n",
        "# 은닉층 1 출력\n",
        "h1 = sigmoid(np.dot(x, w1))\n",
        "\n",
        "# 은닉층 2 출력\n",
        "h2 = sigmoid(np.dot(h1, w2))\n",
        "\n",
        "# 은닉층 3 출력\n",
        "h3 = sigmoid(np.dot(h2, w3))\n",
        "\n",
        "# 출력층 출력\n",
        "o = sigmoid(np.dot(h3, wo))\n",
        "\n",
        "print(\"은닉층 1 출력:\", h1)\n",
        "print(\"은닉층 2 출력:\", h2)\n",
        "print(\"은닉층 3 출력:\", h3)\n",
        "print(\"출력층 출력:\", o)"
      ],
      "metadata": {
        "colab": {
          "base_uri": "https://localhost:8080/"
        },
        "id": "YXQu6JMAgna-",
        "outputId": "8319ba16-aaad-4a53-a1da-323975e8efd4"
      },
      "execution_count": 2,
      "outputs": [
        {
          "output_type": "stream",
          "name": "stdout",
          "text": [
            "은닉층 1 출력: [0.59868766 0.62245933 0.93702664]\n",
            "은닉층 2 출력: [0.41994443 0.78480017 0.72568337]\n",
            "은닉층 3 출력: [0.80873522 0.49566705]\n",
            "출력층 출력: [0.64804764 0.69405824]\n"
          ]
        }
      ]
    },
    {
      "cell_type": "markdown",
      "source": [
        "$$ 은닉층 1의 가중치 행렬 ( U1 ):\n",
        "\n",
        "\n",
        "U1 = \\begin{bmatrix}\n",
        "0.3 & 1.0 & 1.0 \\\\\n",
        "1.2 & -1.0 & 1.6 \\\\\n",
        "-1.1 & 0.5 & 0.1\n",
        "\\end{bmatrix}\n",
        "\n",
        "\n",
        "은닉층 2의 가중치 행렬 ( U2 ):\n",
        "\n",
        "\n",
        "U2 = \\begin{bmatrix}\n",
        "-0.8 & 0.7 & 1.0 \\\\\n",
        "0.1 & -0.1 & 0.3 \\\\\n",
        "0.1 & 1.0 & 0.2\n",
        "\\end{bmatrix}\n",
        "\n",
        "\n",
        "은닉층 3의 가중치 행렬 ( U3 ):\n",
        "\n",
        "\n",
        "U3 = \\begin{bmatrix}\n",
        "1.0 & -0.2 \\\\\n",
        "0.1 & -0.1 \\\\\n",
        "1.3 & 0.2\n",
        "\\end{bmatrix}\n",
        "\n",
        "\n",
        "출력층의 가중치 행렬  U4 :\n",
        "\n",
        "\n",
        "U4 = \\begin{bmatrix}\n",
        "1.0 & 0.4 \\\\\n",
        "-0.4 & 1.0\n",
        "\\end{bmatrix}\n",
        "$$"
      ],
      "metadata": {
        "id": "oPWsryi7hT4c"
      }
    },
    {
      "cell_type": "code",
      "source": [
        "x = np.array([1, 1, 0])\n",
        "\n",
        "# 은닉층 1 출력\n",
        "h1 = sigmoid(np.dot(x, w1))\n",
        "\n",
        "# 은닉층 2 출력\n",
        "h2 = sigmoid(np.dot(h1, w2))\n",
        "\n",
        "# 은닉층 3 출력\n",
        "h3 = sigmoid(np.dot(h2, w3))\n",
        "\n",
        "# 출력층 출력\n",
        "o = sigmoid(np.dot(h3, wo))\n",
        "o"
      ],
      "metadata": {
        "colab": {
          "base_uri": "https://localhost:8080/"
        },
        "id": "ZPcFZlHXhMDz",
        "outputId": "a98fb019-6fc0-4a23-b950-f2e30431724f"
      },
      "execution_count": 3,
      "outputs": [
        {
          "output_type": "execute_result",
          "data": {
            "text/plain": [
              "array([0.64783011, 0.69479754])"
            ]
          },
          "metadata": {},
          "execution_count": 3
        }
      ]
    },
    {
      "cell_type": "code",
      "source": [],
      "metadata": {
        "id": "NsIo7OmJf2VU"
      },
      "execution_count": null,
      "outputs": []
    },
    {
      "cell_type": "markdown",
      "source": [
        "문제 6"
      ],
      "metadata": {
        "id": "1BtZIrvxhrrC"
      }
    },
    {
      "cell_type": "markdown",
      "source": [
        "성능 평가 기준\n",
        "\n",
        "ILSVRC 대회에서 물체 검출 성능 평가에 사용되는 주요 기준은 다음과 같습니다:\n",
        "\n",
        "\t1.\t정확도(Average Precision, AP): 특정 임계값에서 객체 검출의 정밀도(Precision)와 재현율(Recall)을 기반으로 계산됩니다.\n",
        "\t2.\t평균 정밀도(Mean Average Precision, mAP): 다양한 임계값에서의 AP를 평균한 값으로, 전체 모델의 성능을 평가하는 지표입니다. 여러 클래스에 대해 mAP를 계산하여 전체적인 성능을 측정합니다.\n",
        "\n",
        "최근 성능\n",
        "\n",
        "최근 ILSVRC 대회에서 달성된 성능을 보면, 최신 모델들은 높은 정확도와 빠른 속도로 뛰어난 성과를 보여주고 있습니다. 예를 들어, 2023년 ILSVRC 대회에서는 Transformer 기반 모델들이 우수한 성능을 보였습니다. 최신 연구에서는 ViT (Vision Transformer) 모델과 같은 새로운 아키텍처가 등장하면서, 물체 검출 성능이 크게 향상되었습니다."
      ],
      "metadata": {
        "id": "fQ1AuCP2h8ko"
      }
    },
    {
      "cell_type": "markdown",
      "source": [
        "문제 7"
      ],
      "metadata": {
        "id": "2a7PfHiQh-R9"
      }
    },
    {
      "cell_type": "code",
      "source": [
        "import numpy as np\n",
        "\n",
        "# 입력 이미지 (R, G, B 채널)\n",
        "R = np.array([\n",
        "    [1, 1, 1],\n",
        "    [2, 1, 3],\n",
        "    [0, 1, 0]\n",
        "])\n",
        "\n",
        "G = np.array([\n",
        "    [2, 2, 2],\n",
        "    [1, 0, 3],\n",
        "    [1, 0, 1]\n",
        "])\n",
        "\n",
        "B = np.array([\n",
        "    [0, 3, 0],\n",
        "    [1, 0, 1],\n",
        "    [0, 1, 0]\n",
        "])\n",
        "\n",
        "# 커널\n",
        "kernel_R = np.array([\n",
        "    [0, 0, 0],\n",
        "    [0, 0, 1],\n",
        "    [0, 1, 0]\n",
        "])\n",
        "\n",
        "kernel_G = np.array([\n",
        "    [0, 2, 0],\n",
        "    [0, 2, 0],\n",
        "    [0, 2, 0]\n",
        "])\n",
        "\n",
        "kernel_B = np.array([\n",
        "    [1, 0, 0],\n",
        "    [0, 2, 0],\n",
        "    [0, 0, 1]\n",
        "])\n",
        "\n",
        "# 패딩을 추가한 이미지\n",
        "def pad_image(image, pad_width=1):\n",
        "    return np.pad(image, pad_width, mode='constant', constant_values=0)\n",
        "\n",
        "R_padded = pad_image(R)\n",
        "G_padded = pad_image(G)\n",
        "B_padded = pad_image(B)\n",
        "\n",
        "# 컨볼루션 연산 수행\n",
        "def convolution(image, kernel):\n",
        "    kernel_size = kernel.shape[0]\n",
        "    output_size = image.shape[0] - kernel_size + 1\n",
        "    output = np.zeros((output_size, output_size))\n",
        "    for i in range(output_size):\n",
        "        for j in range(output_size):\n",
        "            output[i, j] = np.sum(image[i:i+kernel_size, j:j+kernel_size] * kernel)\n",
        "    return output\n",
        "\n",
        "# 각 채널에 대해 컨볼루션 수행\n",
        "conv_R = convolution(R_padded, kernel_R)\n",
        "conv_G = convolution(G_padded, kernel_G)\n",
        "conv_B = convolution(B_padded, kernel_B)\n",
        "\n",
        "# 최종 특징 맵 계산\n",
        "feature_map = conv_R + conv_G + conv_B\n",
        "\n",
        "print(\"패딩된 R 채널:\\n\", R_padded)\n",
        "print(\"패딩된 G 채널:\\n\", G_padded)\n",
        "print(\"패딩된 B 채널:\\n\", B_padded)\n",
        "print(\"R 채널의 컨볼루션 결과:\\n\", conv_R)\n",
        "print(\"G 채널의 컨볼루션 결과:\\n\", conv_G)\n",
        "print(\"B 채널의 컨볼루션 결과:\\n\", conv_B)\n",
        "print(\"최종 특징 맵:\\n\", feature_map)"
      ],
      "metadata": {
        "colab": {
          "base_uri": "https://localhost:8080/"
        },
        "id": "I_dyl5Ehh9tP",
        "outputId": "ba0fd785-41e4-4015-dd80-baf9a9e0bab1"
      },
      "execution_count": 1,
      "outputs": [
        {
          "output_type": "stream",
          "name": "stdout",
          "text": [
            "패딩된 R 채널:\n",
            " [[0 0 0 0 0]\n",
            " [0 1 1 1 0]\n",
            " [0 2 1 3 0]\n",
            " [0 0 1 0 0]\n",
            " [0 0 0 0 0]]\n",
            "패딩된 G 채널:\n",
            " [[0 0 0 0 0]\n",
            " [0 2 2 2 0]\n",
            " [0 1 0 3 0]\n",
            " [0 1 0 1 0]\n",
            " [0 0 0 0 0]]\n",
            "패딩된 B 채널:\n",
            " [[0 0 0 0 0]\n",
            " [0 0 3 0 0]\n",
            " [0 1 0 1 0]\n",
            " [0 0 1 0 0]\n",
            " [0 0 0 0 0]]\n",
            "R 채널의 컨볼루션 결과:\n",
            " [[3. 2. 3.]\n",
            " [1. 4. 0.]\n",
            " [1. 0. 0.]]\n",
            "G 채널의 컨볼루션 결과:\n",
            " [[ 6.  4. 10.]\n",
            " [ 8.  4. 12.]\n",
            " [ 4.  0.  8.]]\n",
            "B 채널의 컨볼루션 결과:\n",
            " [[0. 7. 0.]\n",
            " [3. 0. 5.]\n",
            " [0. 3. 0.]]\n",
            "최종 특징 맵:\n",
            " [[ 9. 13. 13.]\n",
            " [12.  8. 17.]\n",
            " [ 5.  3.  8.]]\n"
          ]
        }
      ]
    },
    {
      "cell_type": "markdown",
      "source": [
        "문제 8"
      ],
      "metadata": {
        "id": "lrXhL9TnkGwv"
      }
    },
    {
      "cell_type": "code",
      "source": [
        "import numpy as np\n",
        "\n",
        "# 주어진 행렬\n",
        "input_matrix = np.array([\n",
        "    [2, 2, 2, 2, 1, 1, 1, 1],\n",
        "    [2, 2, 2, 2, 1, 1, 1, 1],\n",
        "    [2, 2, 2, 2, 1, 1, 1, 1],\n",
        "    [2, 2, 2, 2, 1, 1, 1, 1],\n",
        "    [2, 2, 2, 9, 9, 9, 9, 9],\n",
        "    [2, 2, 2, 9, 9, 9, 9, 9],\n",
        "    [2, 2, 2, 9, 9, 9, 9, 9],\n",
        "    [2, 2, 2, 9, 9, 9, 9, 9]\n",
        "])\n",
        "\n",
        "# 커널\n",
        "kernel = np.array([\n",
        "    [-1, -1, -1],\n",
        "    [0, 0, 0],\n",
        "    [1, 1, 1]\n",
        "])\n",
        "\n",
        "# 패딩 적용\n",
        "def pad_image(image, pad_width=1):\n",
        "    return np.pad(image, pad_width, mode='constant', constant_values=0)\n",
        "\n",
        "padded_input = pad_image(input_matrix)\n",
        "\n",
        "# 컨볼루션 연산 함수\n",
        "def convolution(image, kernel, bias=0.5):\n",
        "    kernel_size = kernel.shape[0]\n",
        "    output_size = image.shape[0] - kernel_size + 1\n",
        "    output = np.zeros((output_size, output_size))\n",
        "    for i in range(output_size):\n",
        "        for j in range(output_size):\n",
        "            output[i, j] = np.sum(image[i:i+kernel_size, j:j+kernel_size] * kernel) + bias\n",
        "    return output\n",
        "\n",
        "# 컨볼루션 연산 수행\n",
        "output_feature_map = convolution(padded_input, kernel)\n",
        "\n",
        "print(\"패딩된 입력 행렬:\\n\", padded_input)\n",
        "print(\"특징 맵:\\n\", output_feature_map)"
      ],
      "metadata": {
        "colab": {
          "base_uri": "https://localhost:8080/"
        },
        "id": "VXkYsEGJkI2Z",
        "outputId": "81279cc3-ca85-4ace-9534-ac725167980e"
      },
      "execution_count": 4,
      "outputs": [
        {
          "output_type": "stream",
          "name": "stdout",
          "text": [
            "패딩된 입력 행렬:\n",
            " [[0 0 0 0 0 0 0 0 0 0]\n",
            " [0 2 2 2 2 1 1 1 1 0]\n",
            " [0 2 2 2 2 1 1 1 1 0]\n",
            " [0 2 2 2 2 1 1 1 1 0]\n",
            " [0 2 2 2 2 1 1 1 1 0]\n",
            " [0 2 2 2 9 9 9 9 9 0]\n",
            " [0 2 2 2 9 9 9 9 9 0]\n",
            " [0 2 2 2 9 9 9 9 9 0]\n",
            " [0 2 2 2 9 9 9 9 9 0]\n",
            " [0 0 0 0 0 0 0 0 0 0]]\n",
            "특징 맵:\n",
            " [[  4.5   6.5   6.5   5.5   4.5   3.5   3.5   2.5]\n",
            " [  0.5   0.5   0.5   0.5   0.5   0.5   0.5   0.5]\n",
            " [  0.5   0.5   0.5   0.5   0.5   0.5   0.5   0.5]\n",
            " [  0.5   0.5   7.5  15.5  23.5  24.5  24.5  16.5]\n",
            " [  0.5   0.5   7.5  15.5  23.5  24.5  24.5  16.5]\n",
            " [  0.5   0.5   0.5   0.5   0.5   0.5   0.5   0.5]\n",
            " [  0.5   0.5   0.5   0.5   0.5   0.5   0.5   0.5]\n",
            " [ -3.5  -5.5 -12.5 -19.5 -26.5 -26.5 -26.5 -17.5]]\n"
          ]
        }
      ]
    },
    {
      "cell_type": "markdown",
      "source": [
        "문제 9"
      ],
      "metadata": {
        "id": "LN_nQ8OYkIfv"
      }
    },
    {
      "cell_type": "code",
      "source": [
        "import numpy as np\n",
        "\n",
        "# 주어진 행렬\n",
        "input_matrix = np.array([\n",
        "    [2, 2, 2, 2, 1, 1, 1, 1],\n",
        "    [2, 2, 2, 2, 1, 1, 1, 1],\n",
        "    [2, 2, 2, 2, 1, 1, 1, 1],\n",
        "    [2, 2, 2, 2, 1, 1, 1, 1],\n",
        "    [2, 2, 2, 9, 9, 9, 9, 9],\n",
        "    [2, 2, 2, 9, 9, 9, 9, 9],\n",
        "    [2, 2, 2, 9, 9, 9, 9, 9],\n",
        "    [2, 2, 2, 9, 9, 9, 9, 9]\n",
        "])\n",
        "\n",
        "# 커널\n",
        "kernel = np.array([\n",
        "    [-1, -1, -1],\n",
        "    [0, 0, 0],\n",
        "    [1, 1, 1]\n",
        "])\n",
        "\n",
        "# 패딩 적용\n",
        "def pad_image(image, pad_width=1):\n",
        "    return np.pad(image, pad_width, mode='constant', constant_values=0)\n",
        "\n",
        "padded_input = pad_image(input_matrix)\n",
        "\n",
        "# 컨볼루션 연산 함수 (stride=2)\n",
        "def convolution(image, kernel, stride=2, bias=0.5):\n",
        "    kernel_size = kernel.shape[0]\n",
        "    output_size = (image.shape[0] - kernel_size) // stride + 1\n",
        "    output = np.zeros((output_size, output_size))\n",
        "    for i in range(0, output_size * stride, stride):\n",
        "        for j in range(0, output_size * stride, stride):\n",
        "            output[i // stride, j // stride] = np.sum(image[i:i+kernel_size, j:j+kernel_size] * kernel) + bias\n",
        "    return output\n",
        "\n",
        "# 컨볼루션 연산 수행 (stride=2)\n",
        "output_feature_map = convolution(padded_input, kernel, stride=2)\n",
        "\n",
        "print(\"패딩된 입력 행렬:\\n\", padded_input)\n",
        "print(\"특징 맵:\\n\", output_feature_map)"
      ],
      "metadata": {
        "colab": {
          "base_uri": "https://localhost:8080/"
        },
        "id": "U8asD2vDkWsR",
        "outputId": "035a1424-feba-42fa-df49-bf16c6951178"
      },
      "execution_count": 5,
      "outputs": [
        {
          "output_type": "stream",
          "name": "stdout",
          "text": [
            "패딩된 입력 행렬:\n",
            " [[0 0 0 0 0 0 0 0 0 0]\n",
            " [0 2 2 2 2 1 1 1 1 0]\n",
            " [0 2 2 2 2 1 1 1 1 0]\n",
            " [0 2 2 2 2 1 1 1 1 0]\n",
            " [0 2 2 2 2 1 1 1 1 0]\n",
            " [0 2 2 2 9 9 9 9 9 0]\n",
            " [0 2 2 2 9 9 9 9 9 0]\n",
            " [0 2 2 2 9 9 9 9 9 0]\n",
            " [0 2 2 2 9 9 9 9 9 0]\n",
            " [0 0 0 0 0 0 0 0 0 0]]\n",
            "특징 맵:\n",
            " [[ 4.5  6.5  4.5  3.5]\n",
            " [ 0.5  0.5  0.5  0.5]\n",
            " [ 0.5  7.5 23.5 24.5]\n",
            " [ 0.5  0.5  0.5  0.5]]\n"
          ]
        }
      ]
    },
    {
      "cell_type": "markdown",
      "source": [
        "문제 10"
      ],
      "metadata": {
        "id": "_O8bT_pDkXKq"
      }
    },
    {
      "cell_type": "code",
      "source": [
        "import numpy as np\n",
        "\n",
        "# 주어진 행렬\n",
        "input_matrix = np.array([\n",
        "    [2, 2, 2, 2, 1, 1, 1, 1],\n",
        "    [2, 2, 2, 2, 1, 1, 1, 1],\n",
        "    [2, 2, 2, 2, 1, 1, 1, 1],\n",
        "    [2, 2, 2, 2, 1, 1, 1, 1],\n",
        "    [2, 2, 2, 9, 9, 9, 9, 9],\n",
        "    [2, 2, 2, 9, 9, 9, 9, 9],\n",
        "    [2, 2, 2, 9, 9, 9, 9, 9],\n",
        "    [2, 2, 2, 9, 9, 9, 9, 9]\n",
        "])\n",
        "\n",
        "# 커널\n",
        "kernel = np.array([\n",
        "    [-1, -1, -1],\n",
        "    [0, 0, 0],\n",
        "    [1, 1, 1]\n",
        "])\n",
        "\n",
        "# 패딩 적용\n",
        "def pad_image(image, pad_width=1):\n",
        "    return np.pad(image, pad_width, mode='constant', constant_values=0)\n",
        "\n",
        "padded_input = pad_image(input_matrix)\n",
        "\n",
        "# 컨볼루션 연산 함수\n",
        "def convolution(image, kernel, bias=0.5):\n",
        "    kernel_size = kernel.shape[0]\n",
        "    output_size = image.shape[0] - kernel_size + 1\n",
        "    output = np.zeros((output_size, output_size))\n",
        "    for i in range(output_size):\n",
        "        for j in range(output_size):\n",
        "            output[i, j] = np.sum(image[i:i+kernel_size, j:j+kernel_size] * kernel) + bias\n",
        "    return output\n",
        "\n",
        "# 컨볼루션 연산 수행\n",
        "conv_result = convolution(padded_input, kernel)\n",
        "\n",
        "# Max Pooling 함수\n",
        "def max_pooling(image, pool_size=2):\n",
        "    output_size = image.shape[0] // pool_size\n",
        "    output = np.zeros((output_size, output_size))\n",
        "    for i in range(output_size):\n",
        "        for j in range(output_size):\n",
        "            output[i, j] = np.max(image[i*pool_size:(i+1)*pool_size, j*pool_size:(j+1)*pool_size])\n",
        "    return output\n",
        "\n",
        "# Average Pooling 함수\n",
        "def avg_pooling(image, pool_size=2):\n",
        "    output_size = image.shape[0] // pool_size\n",
        "    output = np.zeros((output_size, output_size))\n",
        "    for i in range(output_size):\n",
        "        for j in range(output_size):\n",
        "            output[i, j] = np.mean(image[i*pool_size:(i+1)*pool_size, j*pool_size:(j+1)*pool_size])\n",
        "    return output\n",
        "\n",
        "# Max Pooling 연산 수행\n",
        "max_pool_result = max_pooling(conv_result)\n",
        "\n",
        "# Average Pooling 연산 수행\n",
        "avg_pool_result = avg_pooling(conv_result)\n",
        "\n",
        "print(\"패딩된 입력 행렬:\\n\", padded_input)\n",
        "print(\"컨볼루션 결과:\\n\", conv_result)\n",
        "print(\"Max Pooling 결과:\\n\", max_pool_result)\n",
        "print(\"Average Pooling 결과:\\n\", avg_pool_result)"
      ],
      "metadata": {
        "colab": {
          "base_uri": "https://localhost:8080/"
        },
        "id": "vV4DEQ25lE24",
        "outputId": "2b864ea7-ae87-4a1c-e9c8-f0312ee98663"
      },
      "execution_count": 6,
      "outputs": [
        {
          "output_type": "stream",
          "name": "stdout",
          "text": [
            "패딩된 입력 행렬:\n",
            " [[0 0 0 0 0 0 0 0 0 0]\n",
            " [0 2 2 2 2 1 1 1 1 0]\n",
            " [0 2 2 2 2 1 1 1 1 0]\n",
            " [0 2 2 2 2 1 1 1 1 0]\n",
            " [0 2 2 2 2 1 1 1 1 0]\n",
            " [0 2 2 2 9 9 9 9 9 0]\n",
            " [0 2 2 2 9 9 9 9 9 0]\n",
            " [0 2 2 2 9 9 9 9 9 0]\n",
            " [0 2 2 2 9 9 9 9 9 0]\n",
            " [0 0 0 0 0 0 0 0 0 0]]\n",
            "컨볼루션 결과:\n",
            " [[  4.5   6.5   6.5   5.5   4.5   3.5   3.5   2.5]\n",
            " [  0.5   0.5   0.5   0.5   0.5   0.5   0.5   0.5]\n",
            " [  0.5   0.5   0.5   0.5   0.5   0.5   0.5   0.5]\n",
            " [  0.5   0.5   7.5  15.5  23.5  24.5  24.5  16.5]\n",
            " [  0.5   0.5   7.5  15.5  23.5  24.5  24.5  16.5]\n",
            " [  0.5   0.5   0.5   0.5   0.5   0.5   0.5   0.5]\n",
            " [  0.5   0.5   0.5   0.5   0.5   0.5   0.5   0.5]\n",
            " [ -3.5  -5.5 -12.5 -19.5 -26.5 -26.5 -26.5 -17.5]]\n",
            "Max Pooling 결과:\n",
            " [[ 6.5  6.5  4.5  3.5]\n",
            " [ 0.5 15.5 24.5 24.5]\n",
            " [ 0.5 15.5 24.5 24.5]\n",
            " [ 0.5  0.5  0.5  0.5]]\n",
            "Average Pooling 결과:\n",
            " [[  3.     3.25   2.25   1.75]\n",
            " [  0.5    6.    12.25  10.5 ]\n",
            " [  0.5    6.    12.25  10.5 ]\n",
            " [ -2.    -7.75 -13.   -10.75]]\n"
          ]
        }
      ]
    }
  ]
}